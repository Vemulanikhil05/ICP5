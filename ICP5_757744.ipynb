{
  "nbformat": 4,
  "nbformat_minor": 0,
  "metadata": {
    "colab": {
      "provenance": []
    },
    "kernelspec": {
      "name": "python3",
      "display_name": "Python 3"
    },
    "language_info": {
      "name": "python"
    }
  },
  "cells": [
    {
      "cell_type": "code",
      "execution_count": 3,
      "metadata": {
        "colab": {
          "base_uri": "https://localhost:8080/"
        },
        "id": "mNhtuUYb-_cL",
        "outputId": "12d9138c-6b13-4ac7-ca03-043b70908a34"
      },
      "outputs": [
        {
          "output_type": "stream",
          "name": "stdout",
          "text": [
            "Accuracy: 0.395\n",
            "              precision    recall  f1-score   support\n",
            "\n",
            "           1       0.33      0.55      0.41        11\n",
            "           2       0.25      0.14      0.18        14\n",
            "           3       0.22      0.50      0.31         4\n",
            "           5       0.50      0.20      0.29         5\n",
            "           6       1.00      1.00      1.00         4\n",
            "           7       1.00      0.40      0.57         5\n",
            "\n",
            "    accuracy                           0.40        43\n",
            "   macro avg       0.55      0.46      0.46        43\n",
            "weighted avg       0.45      0.40      0.39        43\n",
            "\n"
          ]
        }
      ],
      "source": [
        "import pandas as pd\n",
        "from sklearn.model_selection import train_test_split\n",
        "from sklearn.naive_bayes import GaussianNB\n",
        "from sklearn.metrics import classification_report\n",
        "\n",
        "\n",
        "#using pandas importing the glass csv file\n",
        "df = pd.read_csv('/content/sample_data/glass.csv')\n",
        "X_train, X_test, Y_train, Y_test = train_test_split(df.drop(\"Type\", axis=1), df[\"Type\"], test_size=0.2)\n",
        "\n",
        "\n",
        "# train model using the Naive_bayes\n",
        "model = GaussianNB()\n",
        "model.fit(X_train, Y_train)\n",
        "\n",
        "\n",
        "# evaluating the model\n",
        "score = model.score(X_test, Y_test)\n",
        "print('Accuracy: %.3f' % score)\n",
        "\n",
        "\n",
        "# generating the classification report\n",
        "y_pred = model.predict(X_test)\n",
        "report = classification_report(y_true=Y_test, y_pred=y_pred)\n",
        "print(report)"
      ]
    },
    {
      "cell_type": "code",
      "source": [
        "import pandas as pd\n",
        "from sklearn.model_selection import train_test_split\n",
        "from sklearn.svm import LinearSVC\n",
        "from sklearn.metrics import classification_report\n",
        "\n",
        "\n",
        "\n",
        "# using pandas importing the dataset\n",
        "df = pd.read_csv('/content/sample_data/glass.csv')\n",
        "X_train, X_test, Y_train, Y_test = train_test_split(df.drop(\"Type\", axis=1), df[\"Type\"], test_size=0.2)\n",
        "\n",
        "\n",
        "# train model using linear support vector machine\n",
        "model = LinearSVC(dual=False)\n",
        "model.fit(X_train, Y_train)\n",
        "\n",
        "\n",
        "# evaluating the model\n",
        "score = model.score(X_test, Y_test)\n",
        "print('Accuracy: %.3f' % score)\n",
        "\n",
        "\n",
        "# generating the classification report\n",
        "y_pred = model.predict(X_test)\n",
        "report = classification_report(y_true=Y_test, y_pred=y_pred)\n",
        "print(report)"
      ],
      "metadata": {
        "colab": {
          "base_uri": "https://localhost:8080/"
        },
        "id": "NsyFUcFW_VBm",
        "outputId": "ab185471-5043-4664-ecc9-bf1e0939f128"
      },
      "execution_count": 5,
      "outputs": [
        {
          "output_type": "stream",
          "name": "stdout",
          "text": [
            "Accuracy: 0.744\n",
            "              precision    recall  f1-score   support\n",
            "\n",
            "           1       0.73      0.79      0.76        14\n",
            "           2       0.72      0.81      0.76        16\n",
            "           3       0.00      0.00      0.00         3\n",
            "           5       0.67      1.00      0.80         2\n",
            "           7       0.86      0.75      0.80         8\n",
            "\n",
            "    accuracy                           0.74        43\n",
            "   macro avg       0.60      0.67      0.62        43\n",
            "weighted avg       0.70      0.74      0.72        43\n",
            "\n"
          ]
        },
        {
          "output_type": "stream",
          "name": "stderr",
          "text": [
            "/usr/local/lib/python3.10/dist-packages/sklearn/metrics/_classification.py:1344: UndefinedMetricWarning: Precision and F-score are ill-defined and being set to 0.0 in labels with no predicted samples. Use `zero_division` parameter to control this behavior.\n",
            "  _warn_prf(average, modifier, msg_start, len(result))\n",
            "/usr/local/lib/python3.10/dist-packages/sklearn/metrics/_classification.py:1344: UndefinedMetricWarning: Precision and F-score are ill-defined and being set to 0.0 in labels with no predicted samples. Use `zero_division` parameter to control this behavior.\n",
            "  _warn_prf(average, modifier, msg_start, len(result))\n",
            "/usr/local/lib/python3.10/dist-packages/sklearn/metrics/_classification.py:1344: UndefinedMetricWarning: Precision and F-score are ill-defined and being set to 0.0 in labels with no predicted samples. Use `zero_division` parameter to control this behavior.\n",
            "  _warn_prf(average, modifier, msg_start, len(result))\n"
          ]
        }
      ]
    }
  ]
}